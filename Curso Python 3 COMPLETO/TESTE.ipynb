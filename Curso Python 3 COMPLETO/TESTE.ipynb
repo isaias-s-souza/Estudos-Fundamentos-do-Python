{
 "cells": [
  {
   "cell_type": "code",
   "execution_count": null,
   "metadata": {},
   "outputs": [
    {
     "data": {
      "text/plain": [
       "[1, 5, 74]"
      ]
     },
     "execution_count": 8,
     "metadata": {},
     "output_type": "execute_result"
    }
   ],
   "source": [
    "ListaOrigem = [[1, 2, 3], [5, 2, 4], [74, 5, 96]] \n",
    "Lista_Alimentada_Por_Compreensao = [linha[0] for linha in ListaOrigem]\n",
    "Lista_Alimentada_Por_Compreensao # Somente os primeiros elementos das \"sub-listas\" estão aqui"
   ]
  },
  {
   "cell_type": "markdown",
   "metadata": {},
   "source": [
    "pwd"
   ]
  },
  {
   "cell_type": "code",
   "execution_count": null,
   "metadata": {},
   "outputs": [
    {
     "data": {
      "text/plain": [
       "5"
      ]
     },
     "execution_count": 19,
     "metadata": {},
     "output_type": "execute_result"
    }
   ],
   "source": [
    "# list = list(range(1, 1000000))\n",
    "from random import randint as rd\n",
    "g = rd(1, 10)\n",
    "g"
   ]
  },
  {
   "cell_type": "code",
   "execution_count": null,
   "metadata": {},
   "outputs": [
    {
     "data": {
      "text/plain": [
       "{2, 4, 6, 8}"
      ]
     },
     "execution_count": 5,
     "metadata": {},
     "output_type": "execute_result"
    }
   ],
   "source": [
    "Retorna_Lista_Pares_Conforme_Intervalo = lambda x, y: {item for item in range(x, y + 1) if (x <= y) and (item % 2 == 0)}\n",
    "Set = Retorna_Lista_Pares_Conforme_Intervalo(1, 8)\n",
    "Set\n",
    "\n"
   ]
  },
  {
   "cell_type": "markdown",
   "metadata": {},
   "source": []
  },
  {
   "cell_type": "code",
   "execution_count": null,
   "metadata": {},
   "outputs": [
    {
     "name": "stdout",
     "output_type": "stream",
     "text": [
      "óia o número 1\n",
      "óia o número 3\n",
      "óia o número 5\n",
      "óia o número 7\n",
      "óia o número 9\n",
      "IOHHHHHH CAIU NO ELSE SEM BREAK\n"
     ]
    }
   ],
   "source": [
    "for x in range(1, 11, 2):\n",
    "    print(\"óia o número \" + str(x))\n",
    "else:\n",
    "    print(\"IOHHHHHH CAIU NO ELSE SEM BREAK\")"
   ]
  },
  {
   "cell_type": "code",
   "execution_count": null,
   "metadata": {},
   "outputs": [
    {
     "name": "stdout",
     "output_type": "stream",
     "text": [
      "['AMQPConnectionWorkflow', 'BaseConnection', 'BasicProperties', 'BlockingConnection', 'ConnectionParameters', 'PlainCredentials', 'SSLOptions', 'SelectConnection', 'URLParameters', '__builtins__', '__cached__', '__doc__', '__file__', '__loader__', '__name__', '__package__', '__path__', '__spec__', '__version__', 'adapters', 'amqp_object', 'callback', 'channel', 'compat', 'connection', 'credentials', 'data', 'diagnostic_utils', 'exceptions', 'exchange_type', 'frame', 'heartbeat', 'logging', 'spec', 'tcp_socket_opts', 'validators']\n"
     ]
    }
   ],
   "source": [
    "import pika\n",
    "print(dir(pika))"
   ]
  },
  {
   "cell_type": "code",
   "execution_count": null,
   "metadata": {},
   "outputs": [
    {
     "data": {
      "text/plain": [
       "['fa', 'kb', 'ac']"
      ]
     },
     "execution_count": 8,
     "metadata": {},
     "output_type": "execute_result"
    }
   ],
   "source": [
    "# ordenando pela segunda letra\n",
    "resultList = list(sorted(['fa', 'kb', 'ac'], key=lambda x: x[1], reverse=False))\n",
    "resultList"
   ]
  },
  {
   "cell_type": "code",
   "execution_count": null,
   "metadata": {},
   "outputs": [
    {
     "data": {
      "text/plain": [
       "'Aqui é a função mais interior.'"
      ]
     },
     "execution_count": 40,
     "metadata": {},
     "output_type": "execute_result"
    }
   ],
   "source": [
    "def funcaoQueSeraPassadaComoParametro(funcaoParametro):\n",
    "    def teste():\n",
    "        return \"Aqui é a função mais interior.\"\n",
    "    return teste\n",
    "\n",
    "@funcaoQueSeraPassadaComoParametro\n",
    "def funcaoQueSeraExecutadaLevandoUmaFuncaoComoParametro():\n",
    "    pass\n",
    "\n",
    "funcaoQueSeraExecutadaLevandoUmaFuncaoComoParametro()"
   ]
  },
  {
   "cell_type": "code",
   "execution_count": null,
   "metadata": {},
   "outputs": [
    {
     "data": {
      "text/plain": [
       "Counter({'Nassim': 1,\n",
       "         'Nicholas': 1,\n",
       "         'Taleb': 1,\n",
       "         'define': 1,\n",
       "         'como': 1,\n",
       "         'antifrágeis': 1,\n",
       "         'organismos': 1,\n",
       "         'ou': 1,\n",
       "         'pessoas': 1,\n",
       "         'que': 1,\n",
       "         'conseguem': 1,\n",
       "         'sobreviver': 1,\n",
       "         'e': 2,\n",
       "         'florescer': 1,\n",
       "         'em': 1,\n",
       "         'cenários': 1,\n",
       "         'difíceis': 1,\n",
       "         'de': 1,\n",
       "         'aleatoriedade.': 1})"
      ]
     },
     "execution_count": 2,
     "metadata": {},
     "output_type": "execute_result"
    }
   ],
   "source": [
    "from collections import Counter\n",
    "Texto = 'Nassim Nicholas Taleb define como antifrágeis organismos ou pessoas que conseguem' \\\n",
    "        ' sobreviver e florescer em cenários difíceis e de aleatoriedade.'\n",
    "\n",
    "listaDePalavras = Counter(Texto.split())\n",
    "listaDePalavras\n"
   ]
  },
  {
   "cell_type": "code",
   "execution_count": null,
   "metadata": {},
   "outputs": [
    {
     "data": {
      "text/plain": [
       "defaultdict(list, {'one': 1})"
      ]
     },
     "execution_count": 4,
     "metadata": {},
     "output_type": "execute_result"
    }
   ],
   "source": [
    "from collections import defaultdict\n",
    "novoDicionario = defaultdict(list) # Cria uma nova lista se tentarmos acessar uma posição que ainda não existe\n",
    "novoDicionario['one'] = 1\n",
    "novoDicionario\n"
   ]
  },
  {
   "cell_type": "code",
   "execution_count": null,
   "metadata": {},
   "outputs": [
    {
     "data": {
      "text/plain": [
       "defaultdict(list, {'one': 1, 'two': []})"
      ]
     },
     "execution_count": 5,
     "metadata": {},
     "output_type": "execute_result"
    }
   ],
   "source": [
    "novoDicionario['two']\n",
    "novoDicionario"
   ]
  },
  {
   "cell_type": "code",
   "execution_count": null,
   "metadata": {},
   "outputs": [
    {
     "name": "stdout",
     "output_type": "stream",
     "text": [
      "Ano :2022\n",
      "Mes :01\n",
      "Dia :07\n"
     ]
    }
   ],
   "source": [
    "import datetime\n",
    "\n",
    "hoje = datetime.date.today()\n",
    "str_hoje = hoje.strftime('%Y-%m-%d')\n",
    "str_hoje\n",
    "\n",
    "\n",
    "ano, mes, dia = str_hoje.split('-')\n",
    "print(\"Ano :\" + ano + \"\\nMes :\" + mes + \"\\nDia :\" + dia)"
   ]
  },
  {
   "cell_type": "code",
   "execution_count": 2,
   "metadata": {},
   "outputs": [],
   "source": [
    "import pdb"
   ]
  },
  {
   "cell_type": "code",
   "execution_count": 4,
   "metadata": {},
   "outputs": [
    {
     "name": "stdout",
     "output_type": "stream",
     "text": [
      "--Return--\n",
      "None\n",
      "> \u001b[1;32mc:\\users\\isaias~1\\appdata\\local\\temp\\ipykernel_14096\\162566891.py\u001b[0m(1)\u001b[0;36m<module>\u001b[1;34m()\u001b[0m\n",
      "\n",
      "100.25\n",
      "121.98\n",
      "122.89\n",
      "--KeyboardInterrupt--\n",
      "\n",
      "KeyboardInterrupt: Interrupted by user\n",
      "345.12\n"
     ]
    }
   ],
   "source": [
    "\n",
    "pdb.set_trace()\n",
    "x = 100.25\n",
    "y = 122.89\n",
    "z = 121.98\n",
    "print(x+y+z)\n"
   ]
  },
  {
   "cell_type": "code",
   "execution_count": 19,
   "metadata": {},
   "outputs": [
    {
     "data": {
      "text/plain": [
       "3.879999985656468e-05"
      ]
     },
     "execution_count": 19,
     "metadata": {},
     "output_type": "execute_result"
    }
   ],
   "source": [
    "import timeit\n",
    "\n",
    "criacaoDeUmaListaDeDivisiveisPor7Ate100 = \\\n",
    "'''booleanosListaDivisiveisPor7 = list(map(lambda x: x % 7 == 0, range(100)))\n",
    "listaDivisiveisPor7 = dict(zip(map(lambda num: str(num), range(100)), booleanosListaDivisiveisPor7))\n",
    "listaDivisiveisPor7'''\n",
    "tempoDeExecucao = timeit.timeit(criacaoDeUmaListaDeDivisiveisPor7Ate100, number=1)\n",
    "tempoDeExecucao"
   ]
  },
  {
   "cell_type": "code",
   "execution_count": 20,
   "metadata": {},
   "outputs": [
    {
     "data": {
      "text/plain": [
       "{'0': True,\n",
       " '1': False,\n",
       " '2': False,\n",
       " '3': False,\n",
       " '4': False,\n",
       " '5': False,\n",
       " '6': False,\n",
       " '7': True,\n",
       " '8': False,\n",
       " '9': False,\n",
       " '10': False,\n",
       " '11': False,\n",
       " '12': False,\n",
       " '13': False,\n",
       " '14': True,\n",
       " '15': False,\n",
       " '16': False,\n",
       " '17': False,\n",
       " '18': False,\n",
       " '19': False,\n",
       " '20': False,\n",
       " '21': True,\n",
       " '22': False,\n",
       " '23': False,\n",
       " '24': False,\n",
       " '25': False,\n",
       " '26': False,\n",
       " '27': False,\n",
       " '28': True,\n",
       " '29': False,\n",
       " '30': False,\n",
       " '31': False,\n",
       " '32': False,\n",
       " '33': False,\n",
       " '34': False,\n",
       " '35': True,\n",
       " '36': False,\n",
       " '37': False,\n",
       " '38': False,\n",
       " '39': False,\n",
       " '40': False,\n",
       " '41': False,\n",
       " '42': True,\n",
       " '43': False,\n",
       " '44': False,\n",
       " '45': False,\n",
       " '46': False,\n",
       " '47': False,\n",
       " '48': False,\n",
       " '49': True,\n",
       " '50': False,\n",
       " '51': False,\n",
       " '52': False,\n",
       " '53': False,\n",
       " '54': False,\n",
       " '55': False,\n",
       " '56': True,\n",
       " '57': False,\n",
       " '58': False,\n",
       " '59': False,\n",
       " '60': False,\n",
       " '61': False,\n",
       " '62': False,\n",
       " '63': True,\n",
       " '64': False,\n",
       " '65': False,\n",
       " '66': False,\n",
       " '67': False,\n",
       " '68': False,\n",
       " '69': False,\n",
       " '70': True,\n",
       " '71': False,\n",
       " '72': False,\n",
       " '73': False,\n",
       " '74': False,\n",
       " '75': False,\n",
       " '76': False,\n",
       " '77': True,\n",
       " '78': False,\n",
       " '79': False,\n",
       " '80': False,\n",
       " '81': False,\n",
       " '82': False,\n",
       " '83': False,\n",
       " '84': True,\n",
       " '85': False,\n",
       " '86': False,\n",
       " '87': False,\n",
       " '88': False,\n",
       " '89': False,\n",
       " '90': False,\n",
       " '91': True,\n",
       " '92': False,\n",
       " '93': False,\n",
       " '94': False,\n",
       " '95': False,\n",
       " '96': False,\n",
       " '97': False,\n",
       " '98': True,\n",
       " '99': False}"
      ]
     },
     "execution_count": 20,
     "metadata": {},
     "output_type": "execute_result"
    }
   ],
   "source": [
    "booleanosListaDivisiveisPor7 = list(map(lambda x: x % 7 == 0, range(100)))\n",
    "listaDivisiveisPor7 = dict(zip(map(lambda num: str(num), range(100)), booleanosListaDivisiveisPor7))\n",
    "listaDivisiveisPor7"
   ]
  },
  {
   "cell_type": "code",
   "execution_count": 35,
   "metadata": {},
   "outputs": [
    {
     "name": "stdout",
     "output_type": "stream",
     "text": [
      "Encontrou.\n"
     ]
    },
    {
     "data": {
      "text/plain": [
       "['Pensando', 'prazo', 'prepara', 'para', 'picas', 'procedimentos']"
      ]
     },
     "execution_count": 35,
     "metadata": {},
     "output_type": "execute_result"
    }
   ],
   "source": [
    "import re\n",
    "\n",
    "\n",
    "texto = '''Pensando mais a longo prazo, a revolução dos costumes prepara-nos para \n",
    "enfrentar situações atípicas decorrentes dos procedimentos normalmente adotados.'''\n",
    "palavraQueSeraProcurada = 'revolução'\n",
    "\n",
    "resultado = re.search(palavraQueSeraProcurada, Texto)\n",
    "\n",
    "if resultado:\n",
    "    print('Encontrou.')\n",
    "else:\n",
    "    print('Não Encontrou.')\n",
    "\n",
    "palavrasQueComecamComP = re.findall('[Pp][a-z]+', texto)\n",
    "palavrasQueComecamComP\n",
    "\n",
    "\n",
    "#Padrão Repetição em REGEX:\n",
    "#TERMO* zero ou mais ocorrências de \"TERMO\" \n",
    "#TERMO+ uma ou mais ocorrências de \"TERMO\"\n",
    "#TERMO? zero ou uma ocorrência de \"TERMO\" \n",
    "#TERMO{3} três ocorrência de \"TERMO\"\n",
    "#TERMO{2,3} dois a três ocorrências de \"TERMO\"\n"
   ]
  },
  {
   "cell_type": "code",
   "execution_count": 38,
   "metadata": {},
   "outputs": [
    {
     "data": {
      "text/plain": [
       "'No entanto, não podemos esquecer que o novo modelo estrutural aqui preconizado apresenta tendências no \\n        sentido de aprovar a manutenção das regras de conduta normativas.'"
      ]
     },
     "execution_count": 38,
     "metadata": {},
     "output_type": "execute_result"
    }
   ],
   "source": [
    "import io\n",
    "\n",
    "texto = '''No entanto, não podemos esquecer que o novo modelo estrutural aqui preconizado apresenta tendências no \n",
    "        sentido de aprovar a manutenção das regras de conduta normativas.'''\n",
    "\n",
    "stringio = io.StringIO(texto)\n",
    "\n",
    "linhaEncontrada = stringio.read()\n",
    "linhaEncontrada\n"
   ]
  },
  {
   "cell_type": "code",
   "execution_count": 39,
   "metadata": {},
   "outputs": [
    {
     "data": {
      "text/plain": [
       "''"
      ]
     },
     "execution_count": 39,
     "metadata": {},
     "output_type": "execute_result"
    }
   ],
   "source": [
    "linhaEncontrada = stringio.read()\n",
    "linhaEncontrada"
   ]
  },
  {
   "cell_type": "code",
   "execution_count": 40,
   "metadata": {},
   "outputs": [
    {
     "data": {
      "text/plain": [
       "0"
      ]
     },
     "execution_count": 40,
     "metadata": {},
     "output_type": "execute_result"
    }
   ],
   "source": [
    "stringio.seek(0)"
   ]
  },
  {
   "cell_type": "code",
   "execution_count": 41,
   "metadata": {},
   "outputs": [
    {
     "data": {
      "text/plain": [
       "'No entanto, não podemos esquecer que o novo modelo estrutural aqui preconizado apresenta tendências no \\n        sentido de aprovar a manutenção das regras de conduta normativas.'"
      ]
     },
     "execution_count": 41,
     "metadata": {},
     "output_type": "execute_result"
    }
   ],
   "source": [
    "linhaEncontrada = stringio.read()\n",
    "linhaEncontrada"
   ]
  },
  {
   "cell_type": "code",
   "execution_count": 9,
   "metadata": {},
   "outputs": [
    {
     "data": {
      "application/vnd.jupyter.widget-view+json": {
       "model_id": "4a3126764d3b4bd3aa722b042e335699",
       "version_major": 2,
       "version_minor": 0
      },
      "text/plain": [
       "interactive(children=(IntSlider(value=100, description='x', max=300, min=-100), Output()), _dom_classes=('widg…"
      ]
     },
     "metadata": {},
     "output_type": "display_data"
    },
    {
     "data": {
      "text/plain": [
       "<function __main__.dobro(x)>"
      ]
     },
     "execution_count": 9,
     "metadata": {},
     "output_type": "execute_result"
    }
   ],
   "source": [
    "from ipywidgets import interact\n",
    "\n",
    "def dobro(x):\n",
    "    return x*2\n",
    "\n",
    "interact(dobro, x=100)"
   ]
  },
  {
   "cell_type": "code",
   "execution_count": 8,
   "metadata": {},
   "outputs": [
    {
     "data": {
      "application/vnd.jupyter.widget-view+json": {
       "model_id": "2ff520c3da5b4b288f970bc2a671eded",
       "version_major": 2,
       "version_minor": 0
      },
      "text/plain": [
       "interactive(children=(Dropdown(description='x', options={'0': 0, '1': 1, '2': 2}, value=0), Output()), _dom_cl…"
      ]
     },
     "metadata": {},
     "output_type": "display_data"
    },
    {
     "data": {
      "text/plain": [
       "<function __main__.funcao(x)>"
      ]
     },
     "execution_count": 8,
     "metadata": {},
     "output_type": "execute_result"
    }
   ],
   "source": [
    "from ipywidgets import interact, interactive, fixed\n",
    "import ipywidgets as widgets\n",
    "\n",
    "def funcao(x):        \n",
    "    return x\n",
    "\n",
    "interact(funcao, x={'':0, '1':1, '2':2})"
   ]
  },
  {
   "cell_type": "code",
   "execution_count": null,
   "metadata": {},
   "outputs": [],
   "source": []
  }
 ],
 "metadata": {
  "interpreter": {
   "hash": "7c69b77d41cee8b5fe9d275c02bd5b32e2a230afb846a9e545f1a4dd63850533"
  },
  "kernelspec": {
   "display_name": "Python 3.9.7 64-bit",
   "language": "python",
   "name": "python3"
  },
  "language_info": {
   "codemirror_mode": {
    "name": "ipython",
    "version": 3
   },
   "file_extension": ".py",
   "mimetype": "text/x-python",
   "name": "python",
   "nbconvert_exporter": "python",
   "pygments_lexer": "ipython3",
   "version": "3.9.7"
  },
  "orig_nbformat": 4
 },
 "nbformat": 4,
 "nbformat_minor": 2
}
