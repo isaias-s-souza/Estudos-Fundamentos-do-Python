{
 "cells": [
  {
   "cell_type": "code",
   "execution_count": null,
   "metadata": {},
   "outputs": [
    {
     "data": {
      "text/plain": [
       "[1, 5, 74]"
      ]
     },
     "execution_count": 8,
     "metadata": {},
     "output_type": "execute_result"
    }
   ],
   "source": [
    "ListaOrigem = [[1, 2, 3], [5, 2, 4], [74, 5, 96]] \n",
    "Lista_Alimentada_Por_Compreensao = [linha[0] for linha in ListaOrigem]\n",
    "Lista_Alimentada_Por_Compreensao # Somente os primeiros elementos das \"sub-listas\" estão aqui"
   ]
  },
  {
   "cell_type": "markdown",
   "metadata": {},
   "source": [
    "pwd"
   ]
  },
  {
   "cell_type": "code",
   "execution_count": null,
   "metadata": {},
   "outputs": [
    {
     "data": {
      "text/plain": [
       "5"
      ]
     },
     "execution_count": 19,
     "metadata": {},
     "output_type": "execute_result"
    }
   ],
   "source": [
    "# list = list(range(1, 1000000))\n",
    "from random import randint as rd\n",
    "g = rd(1, 10)\n",
    "g"
   ]
  },
  {
   "cell_type": "code",
   "execution_count": null,
   "metadata": {},
   "outputs": [
    {
     "data": {
      "text/plain": [
       "{2, 4, 6, 8}"
      ]
     },
     "execution_count": 5,
     "metadata": {},
     "output_type": "execute_result"
    }
   ],
   "source": [
    "Retorna_Lista_Pares_Conforme_Intervalo = lambda x, y: {item for item in range(x, y + 1) if (x <= y) and (item % 2 == 0)}\n",
    "Set = Retorna_Lista_Pares_Conforme_Intervalo(1, 8)\n",
    "Set\n",
    "\n"
   ]
  },
  {
   "cell_type": "markdown",
   "metadata": {},
   "source": []
  },
  {
   "cell_type": "code",
   "execution_count": null,
   "metadata": {},
   "outputs": [
    {
     "name": "stdout",
     "output_type": "stream",
     "text": [
      "óia o número 1\n",
      "óia o número 3\n",
      "óia o número 5\n",
      "óia o número 7\n",
      "óia o número 9\n",
      "IOHHHHHH CAIU NO ELSE SEM BREAK\n"
     ]
    }
   ],
   "source": [
    "for x in range(1, 11, 2):\n",
    "    print(\"óia o número \" + str(x))\n",
    "else:\n",
    "    print(\"IOHHHHHH CAIU NO ELSE SEM BREAK\")"
   ]
  },
  {
   "cell_type": "code",
   "execution_count": null,
   "metadata": {},
   "outputs": [
    {
     "name": "stdout",
     "output_type": "stream",
     "text": [
      "['AMQPConnectionWorkflow', 'BaseConnection', 'BasicProperties', 'BlockingConnection', 'ConnectionParameters', 'PlainCredentials', 'SSLOptions', 'SelectConnection', 'URLParameters', '__builtins__', '__cached__', '__doc__', '__file__', '__loader__', '__name__', '__package__', '__path__', '__spec__', '__version__', 'adapters', 'amqp_object', 'callback', 'channel', 'compat', 'connection', 'credentials', 'data', 'diagnostic_utils', 'exceptions', 'exchange_type', 'frame', 'heartbeat', 'logging', 'spec', 'tcp_socket_opts', 'validators']\n"
     ]
    }
   ],
   "source": [
    "import pika\n",
    "print(dir(pika))"
   ]
  },
  {
   "cell_type": "code",
   "execution_count": null,
   "metadata": {},
   "outputs": [
    {
     "data": {
      "text/plain": [
       "['fa', 'kb', 'ac']"
      ]
     },
     "execution_count": 8,
     "metadata": {},
     "output_type": "execute_result"
    }
   ],
   "source": [
    "# ordenando pela segunda letra\n",
    "resultList = list(sorted(['fa', 'kb', 'ac'], key=lambda x: x[1], reverse=False))\n",
    "resultList"
   ]
  },
  {
   "cell_type": "code",
   "execution_count": null,
   "metadata": {},
   "outputs": [
    {
     "data": {
      "text/plain": [
       "'Aqui é a função mais interior.'"
      ]
     },
     "execution_count": 40,
     "metadata": {},
     "output_type": "execute_result"
    }
   ],
   "source": [
    "def funcaoQueSeraPassadaComoParametro(funcaoParametro):\n",
    "    def teste():\n",
    "        return \"Aqui é a função mais interior.\"\n",
    "    return teste\n",
    "\n",
    "@funcaoQueSeraPassadaComoParametro\n",
    "def funcaoQueSeraExecutadaLevandoUmaFuncaoComoParametro():\n",
    "    pass\n",
    "\n",
    "funcaoQueSeraExecutadaLevandoUmaFuncaoComoParametro()"
   ]
  },
  {
   "cell_type": "code",
   "execution_count": null,
   "metadata": {},
   "outputs": [
    {
     "data": {
      "text/plain": [
       "Counter({'Nassim': 1,\n",
       "         'Nicholas': 1,\n",
       "         'Taleb': 1,\n",
       "         'define': 1,\n",
       "         'como': 1,\n",
       "         'antifrágeis': 1,\n",
       "         'organismos': 1,\n",
       "         'ou': 1,\n",
       "         'pessoas': 1,\n",
       "         'que': 1,\n",
       "         'conseguem': 1,\n",
       "         'sobreviver': 1,\n",
       "         'e': 2,\n",
       "         'florescer': 1,\n",
       "         'em': 1,\n",
       "         'cenários': 1,\n",
       "         'difíceis': 1,\n",
       "         'de': 1,\n",
       "         'aleatoriedade.': 1})"
      ]
     },
     "execution_count": 2,
     "metadata": {},
     "output_type": "execute_result"
    }
   ],
   "source": [
    "from collections import Counter\n",
    "Texto = 'Nassim Nicholas Taleb define como antifrágeis organismos ou pessoas que conseguem' \\\n",
    "        ' sobreviver e florescer em cenários difíceis e de aleatoriedade.'\n",
    "\n",
    "listaDePalavras = Counter(Texto.split())\n",
    "listaDePalavras\n"
   ]
  },
  {
   "cell_type": "code",
   "execution_count": null,
   "metadata": {},
   "outputs": [
    {
     "data": {
      "text/plain": [
       "defaultdict(list, {'one': 1})"
      ]
     },
     "execution_count": 4,
     "metadata": {},
     "output_type": "execute_result"
    }
   ],
   "source": [
    "from collections import defaultdict\n",
    "novoDicionario = defaultdict(list) # Cria uma nova lista se tentarmos acessar uma posição que ainda não existe\n",
    "novoDicionario['one'] = 1\n",
    "novoDicionario\n"
   ]
  },
  {
   "cell_type": "code",
   "execution_count": null,
   "metadata": {},
   "outputs": [
    {
     "data": {
      "text/plain": [
       "defaultdict(list, {'one': 1, 'two': []})"
      ]
     },
     "execution_count": 5,
     "metadata": {},
     "output_type": "execute_result"
    }
   ],
   "source": [
    "novoDicionario['two']\n",
    "novoDicionario"
   ]
  },
  {
   "cell_type": "code",
   "execution_count": null,
   "metadata": {},
   "outputs": [
    {
     "name": "stdout",
     "output_type": "stream",
     "text": [
      "Ano :2022\n",
      "Mes :01\n",
      "Dia :07\n"
     ]
    }
   ],
   "source": [
    "import datetime\n",
    "\n",
    "hoje = datetime.date.today()\n",
    "str_hoje = hoje.strftime('%Y-%m-%d')\n",
    "str_hoje\n",
    "\n",
    "\n",
    "ano, mes, dia = str_hoje.split('-')\n",
    "print(\"Ano :\" + ano + \"\\nMes :\" + mes + \"\\nDia :\" + dia)"
   ]
  },
  {
   "cell_type": "code",
   "execution_count": 2,
   "metadata": {},
   "outputs": [],
   "source": [
    "import pdb"
   ]
  },
  {
   "cell_type": "code",
   "execution_count": 4,
   "metadata": {},
   "outputs": [
    {
     "name": "stdout",
     "output_type": "stream",
     "text": [
      "--Return--\n",
      "None\n",
      "> \u001b[1;32mc:\\users\\isaias~1\\appdata\\local\\temp\\ipykernel_14096\\162566891.py\u001b[0m(1)\u001b[0;36m<module>\u001b[1;34m()\u001b[0m\n",
      "\n",
      "100.25\n"
     ]
    }
   ],
   "source": [
    "\n",
    "pdb.set_trace()\n",
    "x = 100.25\n",
    "y = 122.89\n",
    "z = 121.98\n",
    "print(x+y+z)\n"
   ]
  },
  {
   "cell_type": "code",
   "execution_count": null,
   "metadata": {},
   "outputs": [],
   "source": []
  }
 ],
 "metadata": {
  "interpreter": {
   "hash": "7c69b77d41cee8b5fe9d275c02bd5b32e2a230afb846a9e545f1a4dd63850533"
  },
  "kernelspec": {
   "display_name": "Python 3.9.7 64-bit",
   "language": "python",
   "name": "python3"
  },
  "language_info": {
   "codemirror_mode": {
    "name": "ipython",
    "version": 3
   },
   "file_extension": ".py",
   "mimetype": "text/x-python",
   "name": "python",
   "nbconvert_exporter": "python",
   "pygments_lexer": "ipython3",
   "version": "3.9.7"
  },
  "orig_nbformat": 4
 },
 "nbformat": 4,
 "nbformat_minor": 2
}
