{
 "cells": [
  {
   "cell_type": "code",
   "execution_count": 8,
   "metadata": {},
   "outputs": [
    {
     "data": {
      "text/plain": [
       "[1, 5, 74]"
      ]
     },
     "execution_count": 8,
     "metadata": {},
     "output_type": "execute_result"
    }
   ],
   "source": [
    "ListaOrigem = [[1, 2, 3], [5, 2, 4], [74, 5, 96]] \n",
    "Lista_Alimentada_Por_Compreensao = [linha[0] for linha in ListaOrigem]\n",
    "Lista_Alimentada_Por_Compreensao # Somente os primeiros elementos das \"sub-listas\" estão aqui"
   ]
  },
  {
   "cell_type": "markdown",
   "metadata": {},
   "source": [
    "pwd"
   ]
  },
  {
   "cell_type": "code",
   "execution_count": 19,
   "metadata": {},
   "outputs": [
    {
     "data": {
      "text/plain": [
       "5"
      ]
     },
     "execution_count": 19,
     "metadata": {},
     "output_type": "execute_result"
    }
   ],
   "source": [
    "# list = list(range(1, 1000000))\n",
    "from random import randint as rd\n",
    "g = rd(1, 10)\n",
    "g"
   ]
  },
  {
   "cell_type": "code",
   "execution_count": 5,
   "metadata": {},
   "outputs": [
    {
     "data": {
      "text/plain": [
       "{2, 4, 6, 8}"
      ]
     },
     "execution_count": 5,
     "metadata": {},
     "output_type": "execute_result"
    }
   ],
   "source": [
    "Retorna_Lista_Pares_Conforme_Intervalo = lambda x, y: {item for item in range(x, y + 1) if (x <= y) and (item % 2 == 0)}\n",
    "Set = Retorna_Lista_Pares_Conforme_Intervalo(1, 8)\n",
    "Set\n",
    "\n"
   ]
  },
  {
   "cell_type": "markdown",
   "metadata": {},
   "source": []
  },
  {
   "cell_type": "code",
   "execution_count": 6,
   "metadata": {},
   "outputs": [
    {
     "name": "stdout",
     "output_type": "stream",
     "text": [
      "óia o número 1\n",
      "óia o número 3\n",
      "óia o número 5\n",
      "óia o número 7\n",
      "óia o número 9\n",
      "IOHHHHHH CAIU NO ELSE SEM BREAK\n"
     ]
    }
   ],
   "source": [
    "for x in range(1, 11, 2):\n",
    "    print(\"óia o número \" + str(x))\n",
    "else:\n",
    "    print(\"IOHHHHHH CAIU NO ELSE SEM BREAK\")"
   ]
  },
  {
   "cell_type": "code",
   "execution_count": null,
   "metadata": {},
   "outputs": [],
   "source": []
  }
 ],
 "metadata": {
  "interpreter": {
   "hash": "7c69b77d41cee8b5fe9d275c02bd5b32e2a230afb846a9e545f1a4dd63850533"
  },
  "kernelspec": {
   "display_name": "Python 3.9.7 64-bit",
   "language": "python",
   "name": "python3"
  },
  "language_info": {
   "codemirror_mode": {
    "name": "ipython",
    "version": 3
   },
   "file_extension": ".py",
   "mimetype": "text/x-python",
   "name": "python",
   "nbconvert_exporter": "python",
   "pygments_lexer": "ipython3",
   "version": "3.9.7"
  },
  "orig_nbformat": 4
 },
 "nbformat": 4,
 "nbformat_minor": 2
}
