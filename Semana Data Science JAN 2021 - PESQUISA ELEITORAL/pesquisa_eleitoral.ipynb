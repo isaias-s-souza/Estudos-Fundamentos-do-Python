{
 "cells": [
  {
   "cell_type": "markdown",
   "metadata": {},
   "source": [
    "# Inferência Estatística - Pesquisa Eleitoral\n",
    "### Amostra - O tamanho do que estou medindo\n",
    "* Tamanho suficiente.\n",
    "* É importante a aleatoriedade da amostra. \n",
    "* É importante a amostra representar a população.\n",
    "### Margem de erro\n",
    "* Intervalidade de margem de erro para mais ou menos.\n",
    "* Mais margem de erro menos amostra e vice versa.\n",
    "### Confiança\n",
    "** Intervalo de confiança. Geralmente 95%. (Para cada 100 vezes que é feita a pesquisa 95 o valor real é acertado)"
   ]
  },
  {
   "cell_type": "code",
   "execution_count": null,
   "metadata": {},
   "outputs": [],
   "source": [
    "#Gerar a população\n",
    "n = 150000000\n",
    "candidatos = ['A', 'B', 'C', 'D']\n",
    "real_proporcao = [0.25, 0.20, 0.40, 0.15]\n",
    "\n",
    "nA = int(n*real_proporcao[0])\n",
    "nB = int(n*real_proporcao[1])\n",
    "nC = int(n*real_proporcao[2])\n",
    "nD = int(n*real_proporcao[3])\n",
    "\n",
    "populacao = ['A']*nA + ['B']*nB + ['C']*nC + ['D']*nD\n",
    "populacao"
   ]
  },
  {
   "cell_type": "code",
   "execution_count": 34,
   "metadata": {},
   "outputs": [
    {
     "data": {
      "text/plain": [
       "1.0"
      ]
     },
     "execution_count": 34,
     "metadata": {},
     "output_type": "execute_result"
    }
   ],
   "source": [
    "import random\n",
    "import numpy as np\n",
    "\n",
    "tamanho_amostral = 2401\n",
    "margem_de_erro = 0.02\n",
    "simulacoes = 10000\n",
    "\n",
    "resultados = []\n",
    "for i in range(simulacoes):\n",
    "    pesquisa = random.sample(populacao, k = tamanho_amostral)\n",
    "\n",
    "    a = pesquisa.count('A') / tamanho_amostral\n",
    "    b = pesquisa.count('B') / tamanho_amostral\n",
    "    c = pesquisa.count('C') / tamanho_amostral\n",
    "    d = pesquisa.count('D') / tamanho_amostral\n",
    "\n",
    "    erros = np.array([a, b, c, d]) - real_proporcao\n",
    "\n",
    "    todos = np.all(abs(erros) < margem_de_erro)\n",
    "\n",
    "    resultados.append(todos)\n",
    "\n",
    "# print(todos)\n",
    "# # print(pesquisa)\n",
    "# print(real_proporcao)\n",
    "# print(a, b, c, d)\n",
    "# print(erros)\n",
    "resultados\n",
    "\n",
    "confianca = np.array(resultados).mean() # média de acertos da pesquisa\n",
    "confianca"
   ]
  },
  {
   "cell_type": "code",
   "execution_count": null,
   "metadata": {},
   "outputs": [],
   "source": []
  }
 ],
 "metadata": {
  "interpreter": {
   "hash": "bb9f632f86c5e44346738df910e5d0da0c96fbe0191d775b7ba83ea1ceaa7ec2"
  },
  "kernelspec": {
   "display_name": "Python 3.10.1 64-bit",
   "language": "python",
   "name": "python3"
  },
  "language_info": {
   "codemirror_mode": {
    "name": "ipython",
    "version": 3
   },
   "file_extension": ".py",
   "mimetype": "text/x-python",
   "name": "python",
   "nbconvert_exporter": "python",
   "pygments_lexer": "ipython3",
   "version": "3.10.1"
  },
  "orig_nbformat": 4
 },
 "nbformat": 4,
 "nbformat_minor": 2
}
